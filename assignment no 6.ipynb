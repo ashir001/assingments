{
 "cells": [
  {
   "cell_type": "markdown",
   "metadata": {},
   "source": [
    "# Assignments\n",
    "1. Create a class with following methods and attributes\n",
    "   Write a Python class named Circle constructed by a radius and two methods which will compute the area and the perimeter of a circle"
   ]
  },
  {
   "cell_type": "code",
   "execution_count": 1,
   "metadata": {},
   "outputs": [],
   "source": [
    "class Circleconstructed():\n",
    "    def __init__(self):\n",
    "        self.radius = int(input(\"Please Enter Radious of Circle: \"))\n",
    "\n",
    "    def area(self):\n",
    "        return self.radius**2*3.14\n",
    "    \n",
    "    def perimeter(self):\n",
    "        return 2*self.radius*3.14\n",
    "        \n",
    "    def printData(self):\n",
    "        return print(\"Area of Circle is:\", self.area() , \"\\n\" ,\"Perimeter of Circle is:\" , self.perimeter() ) \n"
   ]
  },
  {
   "cell_type": "code",
   "execution_count": 2,
   "metadata": {},
   "outputs": [
    {
     "name": "stdout",
     "output_type": "stream",
     "text": [
      "Please Enter Radious of Circle: 9\n",
      "Area of Circle is: 254.34 \n",
      " Perimeter of Circle is: 56.52\n"
     ]
    }
   ],
   "source": [
    "Circle = Circleconstructed()\n",
    "Circle.printData()"
   ]
  },
  {
   "cell_type": "markdown",
   "metadata": {},
   "source": [
    "2. Write a Python class which has two methods get_String and print_String. get_String accept a string from the user and print_String print the string in upper case.\n"
   ]
  },
  {
   "cell_type": "code",
   "execution_count": 4,
   "metadata": {},
   "outputs": [
    {
     "name": "stdout",
     "output_type": "stream",
     "text": [
      "Please Enter Data to be converted in upper cases: my name is ashir\n",
      "your give data is :  my name is ashir \n",
      " output in upper case :  MY NAME IS ASHIR\n"
     ]
    }
   ],
   "source": [
    "class Uppercaseconverter():\n",
    "    def __init__(self):\n",
    "        self.string = \"\"\n",
    "\n",
    "    def get_String(self):\n",
    "        self.string = input(\"Please Enter Data to be converted in upper cases: \")\n",
    "        return self.string\n",
    "    def print_String(self):\n",
    "        return self.string.upper()\n",
    "    \n",
    "    def printData(self):\n",
    "        return print(\"your give data is : \" ,self.get_String(),'\\n',\"output in upper case : \", self.print_String() )\n",
    "        \n",
    "\n",
    "strg = Uppercaseconverter()\n",
    "strg.printData()"
   ]
  },
  {
   "cell_type": "markdown",
   "metadata": {},
   "source": [
    "3. Write a Python class to reverse a string word by word. - Go to the editor Input string : 'hello .py' Expected Output : '.py hello'"
   ]
  },
  {
   "cell_type": "code",
   "execution_count": 6,
   "metadata": {},
   "outputs": [
    {
     "name": "stdout",
     "output_type": "stream",
     "text": [
      "Please Enter Data to be reversed by word: hello .py\n",
      "your give data is :  hello .py \n",
      " output in reverse foam :  .py hello\n"
     ]
    }
   ],
   "source": [
    "class Reverser():\n",
    "    def __init__(self):\n",
    "        self.string = \"\"\n",
    "\n",
    "    def get_String(self):\n",
    "        self.string = input(\"Please Enter Data to be reversed by word: \")\n",
    "        return self.string\n",
    "    def print_String(self):\n",
    "        return ' '.join(reversed(self.string.split()))\n",
    "    \n",
    "    def printData(self):\n",
    "        return print(\"your give data is : \" ,self.get_String(),'\\n',\"output in reverse foam : \", self.print_String() )\n",
    "        \n",
    "strg = Reverser()\n",
    "strg.printData()"
   ]
  },
  {
   "cell_type": "code",
   "execution_count": null,
   "metadata": {},
   "outputs": [],
   "source": []
  }
 ],
 "metadata": {
  "kernelspec": {
   "display_name": "Python 3",
   "language": "python",
   "name": "python3"
  },
  "language_info": {
   "codemirror_mode": {
    "name": "ipython",
    "version": 3
   },
   "file_extension": ".py",
   "mimetype": "text/x-python",
   "name": "python",
   "nbconvert_exporter": "python",
   "pygments_lexer": "ipython3",
   "version": "3.7.4"
  }
 },
 "nbformat": 4,
 "nbformat_minor": 2
}
