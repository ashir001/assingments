{
 "cells": [
  {
   "cell_type": "markdown",
   "metadata": {},
   "source": [
    "# Assignments:"
   ]
  },
  {
   "cell_type": "markdown",
   "metadata": {},
   "source": [
    " # 1. Calculate area of circle.\n",
    "You have given radius of circle. You need to write a function calcArea to calculate its area. Where pi=3.14. You have to access following test cases.\n",
    "* r = 8.7\n",
    "* r = 9.2\n",
    "* r = 16.03"
   ]
  },
  {
   "cell_type": "code",
   "execution_count": 1,
   "metadata": {},
   "outputs": [],
   "source": [
    "def calcArea(any_number):\n",
    "    pi = 3.14\n",
    "    14\n",
    "    area = pi*any_number**2\n",
    "    area = round(area,2)\n",
    "    return  area"
   ]
  },
  {
   "cell_type": "code",
   "execution_count": 2,
   "metadata": {},
   "outputs": [
    {
     "data": {
      "text/plain": [
       "237.67"
      ]
     },
     "execution_count": 2,
     "metadata": {},
     "output_type": "execute_result"
    }
   ],
   "source": [
    "calcArea(8.7)"
   ]
  },
  {
   "cell_type": "code",
   "execution_count": 3,
   "metadata": {},
   "outputs": [
    {
     "data": {
      "text/plain": [
       "265.77"
      ]
     },
     "execution_count": 3,
     "metadata": {},
     "output_type": "execute_result"
    }
   ],
   "source": [
    "calcArea(9.2)"
   ]
  },
  {
   "cell_type": "code",
   "execution_count": 4,
   "metadata": {},
   "outputs": [
    {
     "data": {
      "text/plain": [
       "806.86"
      ]
     },
     "execution_count": 4,
     "metadata": {},
     "output_type": "execute_result"
    }
   ],
   "source": [
    "calcArea(16.03)"
   ]
  },
  {
   "cell_type": "markdown",
   "metadata": {},
   "source": [
    "# 2. Write function to check if a value exists in a list\n",
    "You have to create a function checkVal that accepts a list and finds a number in that list. You will not use built-in function."
   ]
  },
  {
   "cell_type": "markdown",
   "metadata": {},
   "source": [
    "You have this data given\n",
    "\n",
    "data = [\"python\", \"r\", \"java\", \"pascal\", \"c\", \"javascript\", \"assembley\", \"html\", \"c++\"]\n",
    "\n",
    "# Value to find\n",
    "* \"python\"\n",
    "* \"html\"\n",
    "* \"c\""
   ]
  },
  {
   "cell_type": "code",
   "execution_count": 5,
   "metadata": {},
   "outputs": [],
   "source": [
    "def checkval(any_list,any_value):\n",
    "    for i in any_list:\n",
    "        if any_value in any_list:\n",
    "            print (f\"list contain {any_value}\")\n",
    "        else:\n",
    "            print(f\"list doesnt contain {any_value}\")\n",
    "        break"
   ]
  },
  {
   "cell_type": "code",
   "execution_count": 6,
   "metadata": {},
   "outputs": [],
   "source": [
    "data = [\"python\", \"r\", \"java\", \"pascal\", \"c\", \"javascript\", \"assembley\", \"html\", \"c++\"]"
   ]
  },
  {
   "cell_type": "code",
   "execution_count": 7,
   "metadata": {},
   "outputs": [
    {
     "name": "stdout",
     "output_type": "stream",
     "text": [
      "list contain python\n"
     ]
    }
   ],
   "source": [
    "checkval(data,\"python\")"
   ]
  },
  {
   "cell_type": "code",
   "execution_count": 8,
   "metadata": {},
   "outputs": [
    {
     "name": "stdout",
     "output_type": "stream",
     "text": [
      "list contain html\n"
     ]
    }
   ],
   "source": [
    "checkval(data,\"html\")"
   ]
  },
  {
   "cell_type": "code",
   "execution_count": 9,
   "metadata": {},
   "outputs": [
    {
     "name": "stdout",
     "output_type": "stream",
     "text": [
      "list contain c\n"
     ]
    }
   ],
   "source": [
    "checkval(data,\"c\")"
   ]
  },
  {
   "cell_type": "markdown",
   "metadata": {},
   "source": [
    "# 3. Write a function to shift list item to right n times\n",
    "\n",
    "You have given a data list. You have to write a function shiftItems which accepts 2 parameters ListName and n(No of times to shift)\n",
    "\n",
    "data = [\"python\", \"r\", \"java\", \"pascal\", \"c\", \"javascript\", \"assembley\", \"html\", \"c++\"]\n",
    "\n",
    "If we want to shift its values 3 times to right, so output will be like\n",
    "\n",
    "data = [\"assembley\", \"html\", \"c++\", \"python\", \"r\", \"java\", \"pascal\", \"c\", \"javascript\"]\n",
    "\n",
    "If we shift it 1 time out will be\n",
    "\n",
    "data = [\"c++\", \"python\", \"r\", \"java\", \"pascal\", \"c\", \"javascript\", \"assembley\", \"html\"]\n",
    "\n",
    "Your task is to write a function for this to shift items."
   ]
  },
  {
   "cell_type": "code",
   "execution_count": 10,
   "metadata": {},
   "outputs": [],
   "source": [
    "def sftitem(any_list,n):\n",
    "    for i in range(n):\n",
    "        any_list.insert(0,any_list[-1])\n",
    "        any_list.pop()\n",
    "    return any_list"
   ]
  },
  {
   "cell_type": "code",
   "execution_count": 14,
   "metadata": {},
   "outputs": [],
   "source": [
    "data = [\"python\", \"r\", \"java\", \"pascal\", \"c\", \"javascript\", \"assembley\", \"html\", \"c++\"]"
   ]
  },
  {
   "cell_type": "code",
   "execution_count": 12,
   "metadata": {},
   "outputs": [
    {
     "data": {
      "text/plain": [
       "['assembley',\n",
       " 'html',\n",
       " 'c++',\n",
       " 'python',\n",
       " 'r',\n",
       " 'java',\n",
       " 'pascal',\n",
       " 'c',\n",
       " 'javascript']"
      ]
     },
     "execution_count": 12,
     "metadata": {},
     "output_type": "execute_result"
    }
   ],
   "source": [
    "sftitem(data,3)"
   ]
  },
  {
   "cell_type": "code",
   "execution_count": 15,
   "metadata": {},
   "outputs": [
    {
     "data": {
      "text/plain": [
       "['c++',\n",
       " 'python',\n",
       " 'r',\n",
       " 'java',\n",
       " 'pascal',\n",
       " 'c',\n",
       " 'javascript',\n",
       " 'assembley',\n",
       " 'html']"
      ]
     },
     "execution_count": 15,
     "metadata": {},
     "output_type": "execute_result"
    }
   ],
   "source": [
    "sftitem(data,1)"
   ]
  },
  {
   "cell_type": "markdown",
   "metadata": {},
   "source": [
    "# 4. Use while loop to get data\n",
    "You have to write a while loop to get input from user for radius of circle. If user enters quit, break the loop, otherwise call calcArea function to get area of cricle from radius and print area of circle."
   ]
  },
  {
   "cell_type": "code",
   "execution_count": 16,
   "metadata": {},
   "outputs": [
    {
     "name": "stdout",
     "output_type": "stream",
     "text": [
      "Enter Radius: 8.7\n",
      "237.67\n",
      "Do you want to input another value: Y/N: y\n",
      "Enter Radius: 9.2\n",
      "265.77\n",
      "Do you want to input another value: Y/N: y\n",
      "Enter Radius: 16.03\n",
      "806.86\n",
      "Do you want to input another value: Y/N: n\n"
     ]
    }
   ],
   "source": [
    "while True:\n",
    "    radious = float(input(\"Enter Radius: \"))\n",
    "    print(calcArea(radious))\n",
    "    cont = input(\"Do you want to input another value: Y/N: \")\n",
    "    if cont.upper() == \"N\":\n",
    "        break"
   ]
  },
  {
   "cell_type": "markdown",
   "metadata": {},
   "source": [
    "# 5. Function with **kwargs:\n",
    "Write function showDetails that takes five positional arguments and receives as dictionary with **kwargs and print in formatted way. Input data is as follows."
   ]
  },
  {
   "cell_type": "markdown",
   "metadata": {},
   "source": [
    "name = \"Ali\", class = \"AI\", marks = {\"math\" : 50, \"physics\" : 80, \"biology\" : 90, \"computer\" : 67}, date = \"1 Feb 2020\", nextClass = True\n",
    "\n",
    "Now write a function\n",
    "\n",
    "def showDetails(**kwargs):\n",
    "    # Your code here\n"
   ]
  },
  {
   "cell_type": "code",
   "execution_count": 17,
   "metadata": {},
   "outputs": [],
   "source": [
    "def tot_mark(any_dict):\n",
    "    a = 0\n",
    "    for i in any_dict.values():\n",
    "        a += i\n",
    "    return a"
   ]
  },
  {
   "cell_type": "code",
   "execution_count": 18,
   "metadata": {},
   "outputs": [],
   "source": [
    "def tot_per(any_dict):\n",
    "    a = 0\n",
    "    for i in any_dict.values():\n",
    "        a += i\n",
    "    return (a/400)*100"
   ]
  },
  {
   "cell_type": "code",
   "execution_count": 19,
   "metadata": {},
   "outputs": [],
   "source": [
    "def maxMarks(any_dict):\n",
    "    for key, value in any_dict.items(): \n",
    "        if max(any_dict.values()) == value:\n",
    "            return key"
   ]
  },
  {
   "cell_type": "code",
   "execution_count": 20,
   "metadata": {},
   "outputs": [],
   "source": [
    "def minMarks(any_dict):\n",
    "    for key, value in any_dict.items(): \n",
    "        if min(any_dict.values()) == value:\n",
    "            return(key)"
   ]
  },
  {
   "cell_type": "code",
   "execution_count": 21,
   "metadata": {},
   "outputs": [],
   "source": [
    "def promotion(tot_per):\n",
    "    if tot_per >= 50:\n",
    "        return \"promoted\"\n",
    "    else:\n",
    "        return \"not promoted\""
   ]
  },
  {
   "cell_type": "code",
   "execution_count": 22,
   "metadata": {},
   "outputs": [],
   "source": [
    "def showDetail(name,clas,marks,date,nextclass,**kwargs):\n",
    "\n",
    "\n",
    "    for i in kwargs.items():\n",
    "        print (i)\n",
    "    abc =\"\"\"hello {a} \n",
    "    here in your result card for class of {b} \n",
    "    your score card is as follow. \n",
    "    class Marks \n",
    "        math : {k}\n",
    "        physics : {l}\n",
    "        biology : {m}\n",
    "        computer : {n}\n",
    "    total marks are : {c} \n",
    "    percentage is as follow : {d} \n",
    "    maximum marks are in {e} \n",
    "    minimum marks are in {f} \n",
    "    you are {j} to next class \"\"\".format(a= name,\n",
    "                                                   b = clas,c = tot_mark(marks),\n",
    "                                                    d = tot_per(marks),\n",
    "                                                    e  = maxMarks(marks),\n",
    "                                                    f = minMarks(marks), j = promotion(tot_per(marks)),\n",
    "                                                  k = marks[\"math\"],\n",
    "                                                   l = marks['physics'],\n",
    "                                                   m = marks['biology'],\n",
    "                                                   n = marks['computer'])\n",
    "                                                  \n",
    "    return print(abc)  "
   ]
  },
  {
   "cell_type": "code",
   "execution_count": 23,
   "metadata": {},
   "outputs": [
    {
     "name": "stdout",
     "output_type": "stream",
     "text": [
      "hello ali \n",
      "    here in your result card for class of A.i \n",
      "    your score card is as follow. \n",
      "    class Marks \n",
      "        math : 50\n",
      "        physics : 80\n",
      "        biology : 90\n",
      "        computer : 67\n",
      "    total marks are : 287 \n",
      "    percentage is as follow : 71.75 \n",
      "    maximum marks are in biology \n",
      "    minimum marks are in math \n",
      "    you are promoted to next class \n"
     ]
    }
   ],
   "source": [
    "showDetail(name = \"ali\" , clas = 'A.i' , marks = {\"math\" : 50, \"physics\" : 80, \"biology\" : 90,\"computer\" : 67} , date = 45 , nextclass = 'true')\n"
   ]
  }
 ],
 "metadata": {
  "kernelspec": {
   "display_name": "Python 3",
   "language": "python",
   "name": "python3"
  },
  "language_info": {
   "codemirror_mode": {
    "name": "ipython",
    "version": 3
   },
   "file_extension": ".py",
   "mimetype": "text/x-python",
   "name": "python",
   "nbconvert_exporter": "python",
   "pygments_lexer": "ipython3",
   "version": "3.7.4"
  }
 },
 "nbformat": 4,
 "nbformat_minor": 2
}
