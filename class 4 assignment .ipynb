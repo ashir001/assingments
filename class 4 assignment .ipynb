{
 "cells": [
  {
   "cell_type": "markdown",
   "metadata": {},
   "source": [
    "# Class 4 "
   ]
  },
  {
   "cell_type": "markdown",
   "metadata": {},
   "source": [
    "# Assignment 1\n"
   ]
  },
  {
   "cell_type": "code",
   "execution_count": 1,
   "metadata": {},
   "outputs": [
    {
     "name": "stdout",
     "output_type": "stream",
     "text": [
      "How Many Employess Data You Want To Enter: 3\n",
      "Please Enter Your Name: Hamza ALi\n",
      "Please Enter Your Age: 25\n",
      "PLease Enter Your Field of Work: A.I\n",
      "Please Enter Your Degree Title: BS\n",
      "Please Enter Your Degree Major: computer science \n",
      "Please Enter Your Degree Complition DateJun 2019\n",
      "Please Enter Your Salary: 259999\n",
      "Please Enter Your no Of Skills: 3\n",
      "Enter Your Skill: python\n",
      "Enter Your Skill: tensorflow\n",
      "Enter Your Skill: cloud\n",
      "Please Enter Your Name: Farooq Aziz\n",
      "Please Enter Your Age: 27\n",
      "PLease Enter Your Field of Work: cloud native\n",
      "Please Enter Your Degree Title: ms\n",
      "Please Enter Your Degree Major: software engineering \n",
      "Please Enter Your Degree Complition Datemay 2018\n",
      "Please Enter Your Salary: 200000\n",
      "Please Enter Your no Of Skills: 3\n",
      "Enter Your Skill: ubuntu\n",
      "Enter Your Skill: docker\n",
      "Enter Your Skill: kubernates \n",
      "Please Enter Your Name: Abu Bakr\n",
      "Please Enter Your Age: 30\n",
      "PLease Enter Your Field of Work: blockchain\n",
      "Please Enter Your Degree Title: bs\n",
      "Please Enter Your Degree Major: computer science \n",
      "Please Enter Your Degree Complition Datemay 2019\n",
      "Please Enter Your Salary: 300000\n",
      "Please Enter Your no Of Skills: 3\n",
      "Enter Your Skill: python\n",
      "Enter Your Skill: cryptography \n",
      "Enter Your Skill: ethereum \n"
     ]
    },
    {
     "data": {
      "text/plain": [
       "[{'employee_Name': 'Hamza ALi',\n",
       "  'age': 25,\n",
       "  'work': 'A.I',\n",
       "  'skills': ['python', 'tensorflow', 'cloud'],\n",
       "  'degree': {'title': 'BS',\n",
       "   'major': 'computer science ',\n",
       "   'completionDate': 'Jun 2019'},\n",
       "  'Salary': 259999},\n",
       " {'employee_Name': 'Farooq Aziz',\n",
       "  'age': 27,\n",
       "  'work': 'cloud native',\n",
       "  'skills': ['ubuntu', 'docker', 'kubernates '],\n",
       "  'degree': {'title': 'ms',\n",
       "   'major': 'software engineering ',\n",
       "   'completionDate': 'may 2018'},\n",
       "  'Salary': 200000},\n",
       " {'employee_Name': 'Abu Bakr',\n",
       "  'age': 30,\n",
       "  'work': 'blockchain',\n",
       "  'skills': ['python', 'cryptography ', 'ethereum '],\n",
       "  'degree': {'title': 'bs',\n",
       "   'major': 'computer science ',\n",
       "   'completionDate': 'may 2019'},\n",
       "  'Salary': 300000}]"
      ]
     },
     "execution_count": 1,
     "metadata": {},
     "output_type": "execute_result"
    }
   ],
   "source": [
    "\n",
    "studentForm = []\n",
    "x = input(\"How Many Employess Data You Want To Enter: \")\n",
    "x=int(x)\n",
    "for i in range(x):\n",
    "    \n",
    "    employee = {\n",
    "        'employee_Name': input(\"Please Enter Your Name: \"),\n",
    " 'age': int(input(\"Please Enter Your Age: \")),\n",
    " 'work': input(\"PLease Enter Your Field of Work: \"),\n",
    " \"skills\" : [],\n",
    " \"degree\" : {'title' : input(\"Please Enter Your Degree Title: \"),\n",
    "               \"major\" : input(\"Please Enter Your Degree Major: \"),\n",
    "               \"completionDate\" : input(\"Please Enter Your Degree Complition Date\")},\n",
    " 'Salary': int(input(\"Please Enter Your Salary: \"))\n",
    "  }\n",
    "\n",
    "\n",
    "    j = input(\"Please Enter Your no Of Skills: \")\n",
    "    j = int(j)\n",
    "    for k in range(j):\n",
    "        s = input(\"Enter Your Skill: \")\n",
    "        employee[\"skills\"].append(s)\n",
    "\n",
    "    \n",
    "    \n",
    "    studentForm.append(employee)\n",
    "studentForm"
   ]
  },
  {
   "cell_type": "markdown",
   "metadata": {},
   "source": [
    "# Assignment 2"
   ]
  },
  {
   "cell_type": "markdown",
   "metadata": {},
   "source": [
    "# first output "
   ]
  },
  {
   "cell_type": "code",
   "execution_count": 2,
   "metadata": {},
   "outputs": [
    {
     "name": "stdout",
     "output_type": "stream",
     "text": [
      "Enter value for table: 5\n",
      "Enter value for table: 10\n",
      "\n",
      "\n",
      "5 * 1 = 5\n",
      "5 * 2 = 10\n",
      "5 * 3 = 15\n",
      "5 * 4 = 20\n",
      "5 * 5 = 25\n",
      "5 * 6 = 30\n",
      "5 * 7 = 35\n",
      "5 * 8 = 40\n",
      "5 * 9 = 45\n",
      "5 * 10 = 50\n",
      "\n",
      "\n",
      "6 * 1 = 6\n",
      "6 * 2 = 12\n",
      "6 * 3 = 18\n",
      "6 * 4 = 24\n",
      "6 * 5 = 30\n",
      "6 * 6 = 36\n",
      "6 * 7 = 42\n",
      "6 * 8 = 48\n",
      "6 * 9 = 54\n",
      "6 * 10 = 60\n",
      "\n",
      "\n",
      "7 * 1 = 7\n",
      "7 * 2 = 14\n",
      "7 * 3 = 21\n",
      "7 * 4 = 28\n",
      "7 * 5 = 35\n",
      "7 * 6 = 42\n",
      "7 * 7 = 49\n",
      "7 * 8 = 56\n",
      "7 * 9 = 63\n",
      "7 * 10 = 70\n",
      "\n",
      "\n",
      "8 * 1 = 8\n",
      "8 * 2 = 16\n",
      "8 * 3 = 24\n",
      "8 * 4 = 32\n",
      "8 * 5 = 40\n",
      "8 * 6 = 48\n",
      "8 * 7 = 56\n",
      "8 * 8 = 64\n",
      "8 * 9 = 72\n",
      "8 * 10 = 80\n",
      "\n",
      "\n",
      "9 * 1 = 9\n",
      "9 * 2 = 18\n",
      "9 * 3 = 27\n",
      "9 * 4 = 36\n",
      "9 * 5 = 45\n",
      "9 * 6 = 54\n",
      "9 * 7 = 63\n",
      "9 * 8 = 72\n",
      "9 * 9 = 81\n",
      "9 * 10 = 90\n",
      "\n",
      "\n",
      "10 * 1 = 10\n",
      "10 * 2 = 20\n",
      "10 * 3 = 30\n",
      "10 * 4 = 40\n",
      "10 * 5 = 50\n",
      "10 * 6 = 60\n",
      "10 * 7 = 70\n",
      "10 * 8 = 80\n",
      "10 * 9 = 90\n",
      "10 * 10 = 100\n"
     ]
    }
   ],
   "source": [
    "a = int(input(\"Enter value for table: \"))\n",
    "b = int(input(\"Enter value for table: \"))\n",
    "for i in range(a,b+1):\n",
    "    print(\"\\n\")\n",
    "    for j in range(1,11):\n",
    "        print(f\"{i} * {j} = {i * j}\")"
   ]
  },
  {
   "cell_type": "markdown",
   "metadata": {},
   "source": [
    "# second output"
   ]
  },
  {
   "cell_type": "code",
   "execution_count": 3,
   "metadata": {},
   "outputs": [
    {
     "name": "stdout",
     "output_type": "stream",
     "text": [
      "Enter first value for table: 5\n",
      "Enter second value for table: 10\n",
      "5 * 1 = 5 \t6 * 1 = 6 \t7 * 1 = 7 \t8 * 1 = 8 \t9 * 1 = 9 \t10 * 1 = 10 \t\n",
      "5 * 2 = 10 \t6 * 2 = 12 \t7 * 2 = 14 \t8 * 2 = 16 \t9 * 2 = 18 \t10 * 2 = 20 \t\n",
      "5 * 3 = 15 \t6 * 3 = 18 \t7 * 3 = 21 \t8 * 3 = 24 \t9 * 3 = 27 \t10 * 3 = 30 \t\n",
      "5 * 4 = 20 \t6 * 4 = 24 \t7 * 4 = 28 \t8 * 4 = 32 \t9 * 4 = 36 \t10 * 4 = 40 \t\n",
      "5 * 5 = 25 \t6 * 5 = 30 \t7 * 5 = 35 \t8 * 5 = 40 \t9 * 5 = 45 \t10 * 5 = 50 \t\n",
      "5 * 6 = 30 \t6 * 6 = 36 \t7 * 6 = 42 \t8 * 6 = 48 \t9 * 6 = 54 \t10 * 6 = 60 \t\n",
      "5 * 7 = 35 \t6 * 7 = 42 \t7 * 7 = 49 \t8 * 7 = 56 \t9 * 7 = 63 \t10 * 7 = 70 \t\n",
      "5 * 8 = 40 \t6 * 8 = 48 \t7 * 8 = 56 \t8 * 8 = 64 \t9 * 8 = 72 \t10 * 8 = 80 \t\n",
      "5 * 9 = 45 \t6 * 9 = 54 \t7 * 9 = 63 \t8 * 9 = 72 \t9 * 9 = 81 \t10 * 9 = 90 \t\n",
      "5 * 10 = 50 \t6 * 10 = 60 \t7 * 10 = 70 \t8 * 10 = 80 \t9 * 10 = 90 \t10 * 10 = 100 \t\n"
     ]
    }
   ],
   "source": [
    "a = int(input(\"Enter first value for table: \"))\n",
    "b = int(input(\"Enter second value for table: \"))\n",
    "for x in range(1,11):\n",
    "    for y in range(a,b+1):\n",
    "        print(f\"{y} * {x} = {y * x}\",'\\t',end='')\n",
    "    print(\"\")"
   ]
  },
  {
   "cell_type": "code",
   "execution_count": null,
   "metadata": {},
   "outputs": [],
   "source": []
  }
 ],
 "metadata": {
  "kernelspec": {
   "display_name": "Python 3",
   "language": "python",
   "name": "python3"
  },
  "language_info": {
   "codemirror_mode": {
    "name": "ipython",
    "version": 3
   },
   "file_extension": ".py",
   "mimetype": "text/x-python",
   "name": "python",
   "nbconvert_exporter": "python",
   "pygments_lexer": "ipython3",
   "version": "3.7.4"
  }
 },
 "nbformat": 4,
 "nbformat_minor": 2
}
